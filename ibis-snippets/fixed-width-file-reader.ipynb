{
 "cells": [
  {
   "cell_type": "code",
   "execution_count": null,
   "metadata": {},
   "outputs": [],
   "source": [
    "%load_ext ipython_memory_usage\n",
    "%imu_start"
   ]
  },
  {
   "cell_type": "code",
   "execution_count": null,
   "metadata": {},
   "outputs": [],
   "source": [
    "import ibis\n",
    "from ibis.expr import datatypes as dt\n",
    "from ibis import _ as d_\n",
    "from itertools import accumulate\n",
    "ibis.options.verbose = True"
   ]
  },
  {
   "cell_type": "code",
   "execution_count": null,
   "metadata": {},
   "outputs": [],
   "source": [
    "data_contract = {\n",
    "    \"c1\": {\"width\": 4, \"type\": dt.String()},\n",
    "    \"c2\": {\"width\": 4, \"type\": dt.UInt16()},\n",
    "    \"c3\": {\"width\": 2, \"type\": dt.String()},\n",
    "    \"c4\": {\"width\": 10, \"type\": dt.String()},\n",
    "}"
   ]
  },
  {
   "cell_type": "code",
   "execution_count": null,
   "metadata": {},
   "outputs": [],
   "source": [
    "cols = data_contract.keys()"
   ]
  },
  {
   "cell_type": "code",
   "execution_count": null,
   "metadata": {},
   "outputs": [],
   "source": [
    "sch = {}\n",
    "for col in data_contract.keys():\n",
    "    sch[col] = data_contract.get(col).get('type')\n",
    "sch"
   ]
  },
  {
   "cell_type": "code",
   "execution_count": null,
   "metadata": {},
   "outputs": [],
   "source": [
    "width = []\n",
    "for col in data_contract.keys():\n",
    "    width.append(data_contract.get(col).get(\"width\"))\n",
    "\n",
    "acc = accumulate(width[:-1], initial=0)\n",
    "width_offsets = zip(acc, width)"
   ]
  },
  {
   "cell_type": "code",
   "execution_count": null,
   "metadata": {},
   "outputs": [],
   "source": [
    "exprs = {\n",
    "    c: d_.txt.substr(s, l) for c, (s,l) in zip(cols, width_offsets)\n",
    "}"
   ]
  },
  {
   "cell_type": "code",
   "execution_count": null,
   "metadata": {},
   "outputs": [],
   "source": [
    "# yyy\n",
    "t.mutate(**yyy).cast(types).to_pyarrow()"
   ]
  },
  {
   "cell_type": "code",
   "execution_count": null,
   "metadata": {},
   "outputs": [],
   "source": [
    "# (\n",
    "#     ibis.dtype(dt.Int16),\n",
    "#     ibis.dtype(dt.UInt16),\n",
    "#     ibis.dtype(dt.String),\n",
    "#     ibis.dtype(dt.Decimal(19,2)),\n",
    "#     ibis.dtype(dt.String),\n",
    "#     ibis.dtype(dt.Binary),\n",
    "#     ibis.dtype(dt.Array(dt.UInt16)),\n",
    "#     ibis.dtype(dt.Date),\n",
    "#     ibis.dtype(dt.Timestamp()),\n",
    "# )"
   ]
  },
  {
   "cell_type": "code",
   "execution_count": null,
   "metadata": {},
   "outputs": [],
   "source": [
    "conn = ibis.duckdb.connect()"
   ]
  },
  {
   "cell_type": "code",
   "execution_count": null,
   "metadata": {},
   "outputs": [],
   "source": [
    "x = conn.table('tb')"
   ]
  },
  {
   "cell_type": "code",
   "execution_count": null,
   "metadata": {},
   "outputs": [],
   "source": [
    "conn.settings"
   ]
  },
  {
   "cell_type": "code",
   "execution_count": null,
   "metadata": {},
   "outputs": [],
   "source": [
    "conn.version"
   ]
  },
  {
   "cell_type": "code",
   "execution_count": null,
   "metadata": {},
   "outputs": [],
   "source": [
    "(\n",
    "    conn.current_database,\n",
    "    conn.current_schema\n",
    ")"
   ]
  },
  {
   "cell_type": "code",
   "execution_count": null,
   "metadata": {},
   "outputs": [],
   "source": [
    "conn"
   ]
  },
  {
   "cell_type": "code",
   "execution_count": null,
   "metadata": {},
   "outputs": [],
   "source": [
    "conn.detach(name='memory')"
   ]
  },
  {
   "cell_type": "code",
   "execution_count": null,
   "metadata": {},
   "outputs": [],
   "source": [
    "conn.con.dispose()"
   ]
  },
  {
   "cell_type": "code",
   "execution_count": null,
   "metadata": {},
   "outputs": [],
   "source": [
    "import gc\n",
    "gc.collect()"
   ]
  }
 ],
 "metadata": {
  "kernelspec": {
   "display_name": "py-dev",
   "language": "python",
   "name": "python3"
  },
  "language_info": {
   "codemirror_mode": {
    "name": "ipython",
    "version": 3
   },
   "file_extension": ".py",
   "mimetype": "text/x-python",
   "name": "python",
   "nbconvert_exporter": "python",
   "pygments_lexer": "ipython3",
   "version": "3.11.5"
  }
 },
 "nbformat": 4,
 "nbformat_minor": 2
}
